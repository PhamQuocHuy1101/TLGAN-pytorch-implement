{
 "cells": [
  {
   "cell_type": "code",
   "execution_count": 39,
   "id": "9a272728",
   "metadata": {},
   "outputs": [],
   "source": [
    "import os\n",
    "import os.path as path\n",
    "import numpy as np\n",
    "from PIL import Image\n",
    "from torchvision import transforms\n",
    "import matplotlib.pyplot as plt\n",
    "from tqdm.auto import tqdm"
   ]
  },
  {
   "cell_type": "code",
   "execution_count": 2,
   "id": "28d07f54",
   "metadata": {},
   "outputs": [],
   "source": [
    "os.makedirs()\n",
    "img_path = '../data/dataset/images'\n",
    "txt_path = '../data/dataset/texts'"
   ]
  },
  {
   "cell_type": "code",
   "execution_count": 3,
   "id": "a9616369",
   "metadata": {},
   "outputs": [],
   "source": [
    "def extract_coordinate(file):\n",
    "    with open(file, 'r') as f:\n",
    "        data = f.read().splitlines()\n",
    "        lines = [line.split(',')[:8] for line in data]\n",
    "        return [[int(value) for value in line] for line in lines]"
   ]
  },
  {
   "cell_type": "code",
   "execution_count": 30,
   "id": "73cf7d61",
   "metadata": {},
   "outputs": [],
   "source": [
    "def create_map(img_size, boxes):\n",
    "    '''\n",
    "        img_size: (h, w)\n",
    "        boxes[i]: x0, y0, x1, y1, x2, y2, x3, y3\n",
    "    '''\n",
    "    map_img = np.zeros(img_size)\n",
    "    for i, box in enumerate(boxes):\n",
    "        xmin, xmax = min(box[::2]), max(box[::2])\n",
    "        ymin, ymax = min(box[1::2]), max(box[1::2])\n",
    "\n",
    "        width_y = ymax - ymin\n",
    "        y_center = (ymax + ymin) / 2\n",
    "        M = lambda y: 1.0 / (2 * np.pi * width_y) * np.exp(-y**2 / (2 * width_y**2))\n",
    "        for y in range(ymin, ymax, 1):\n",
    "            map_img[y, xmin:xmax] = M(y - y_center)\n",
    "    return map_img"
   ]
  },
  {
   "cell_type": "code",
   "execution_count": 33,
   "id": "3d035e60",
   "metadata": {
    "scrolled": true
   },
   "outputs": [
    {
     "data": {
      "text/plain": [
       "array([[0., 0., 0., ..., 0., 0., 0.],\n",
       "       [0., 0., 0., ..., 0., 0., 0.],\n",
       "       [0., 0., 0., ..., 0., 0., 0.],\n",
       "       ...,\n",
       "       [0., 0., 0., ..., 0., 0., 0.],\n",
       "       [0., 0., 0., ..., 0., 0., 0.],\n",
       "       [0., 0., 0., ..., 0., 0., 0.]])"
      ]
     },
     "execution_count": 33,
     "metadata": {},
     "output_type": "execute_result"
    }
   ],
   "source": [
    "img = Image.open(path.join(img_path, 'X51005306399.jpg'))\n",
    "boxes = extract_coordinate(path.join(txt_path, 'X51005306399.txt'))\n",
    "create_map([img.size[1], img.size[0]], boxes)"
   ]
  },
  {
   "cell_type": "code",
   "execution_count": 34,
   "id": "ae1aa566",
   "metadata": {},
   "outputs": [
    {
     "data": {
      "text/plain": [
       "((447, 915), (915, 447))"
      ]
     },
     "execution_count": 34,
     "metadata": {},
     "output_type": "execute_result"
    }
   ],
   "source": [
    "img.size, img.size[::-1]"
   ]
  },
  {
   "cell_type": "code",
   "execution_count": 44,
   "id": "357f90d7",
   "metadata": {
    "scrolled": true
   },
   "outputs": [
    {
     "data": {
      "application/vnd.jupyter.widget-view+json": {
       "model_id": "004942bfb4854a61b3790f5f93d13877",
       "version_major": 2,
       "version_minor": 0
      },
      "text/plain": [
       "  0%|          | 0/20 [00:00<?, ?it/s]"
      ]
     },
     "metadata": {},
     "output_type": "display_data"
    },
    {
     "name": "stdout",
     "output_type": "stream",
     "text": [
      "torch.Size([1013, 463, 3])\n",
      "torch.Size([1013, 463])\n"
     ]
    }
   ],
   "source": [
    "def crop_data(size):\n",
    "    images_path = '../data/dataset/images'\n",
    "    txt_path = '../data/dataset/texts'\n",
    "    crop_image_path = '../data/dataset/croped_images/images'\n",
    "    crop_map_image_path = '../data/dataset/croped_images/map_images'\n",
    "    crop = transforms.RandomCrop(size)\n",
    "    n_loop = 100\n",
    "    files = sorted(os.listdir(images_path))\n",
    "    for img_file in tqdm(files):\n",
    "        name = img_file[:-4]\n",
    "        image = Image.open(os.path.join(images_path, img_file)).convert('RGB')\n",
    "        image = torch.tensor(np.array(image))\n",
    "\n",
    "        boxes = extract_coordinate(path.join(txt_path, f'{name}.txt'))\n",
    "        map_image = create_map(image.shape[:2], boxes)\n",
    "        map_image = torch.tensor(map_image)\n",
    "\n",
    "        tensor_image = torch.cat([image, map_image.unsqueeze(2)], dim = 2)\n",
    "        tensor_image = tensor_image.permute(2, 0, 1)\n",
    "\n",
    "        for i in range(n_loop):\n",
    "            cropedImage = crop(tensor_image)\n",
    "            im = cropedImage[:3].permute(1, 2, 0).numpy()\n",
    "            im = im.astype(np.uint8)\n",
    "            \n",
    "            Image.fromarray(im).save(os.path.join(crop_image_path, f'{name}_{i}.jpg'))\n",
    "            torch.save(cropedImage[3].clone(), os.path.join(crop_map_image_path, f'{name}_{i}.pt'))\n",
    "            break\n",
    "        break\n",
    "crop_data((128, 128))"
   ]
  },
  {
   "cell_type": "code",
   "execution_count": 89,
   "id": "91582af1",
   "metadata": {},
   "outputs": [
    {
     "data": {
      "image/png": "[encoded data removed]",
      "text/plain": [
       "<PIL.JpegImagePlugin.JpegImageFile image mode=RGB size=128x128 at 0x7F62507C3100>"
      ]
     },
     "execution_count": 89,
     "metadata": {},
     "output_type": "execute_result"
    }
   ],
   "source": [
    "img = Image.open('../data/dataset/croped_images/images/X00016469612_0.jpg')\n",
    "img"
   ]
  },
  {
   "cell_type": "code",
   "execution_count": 249,
   "id": "550f931f",
   "metadata": {},
   "outputs": [],
   "source": [
    "to_tensor = transforms.Compose([\n",
    "    transforms.ToTensor(),\n",
    "    transforms.GaussianBlur(3),\n",
    "    transforms.ColorJitter(0.1, 0.1, 0.1, 0.3),\n",
    "    transforms.Normalize((0.5,), (0.5,)),\n",
    "])\n"
   ]
  },
  {
   "cell_type": "code",
   "execution_count": 248,
   "id": "5ea84196",
   "metadata": {},
   "outputs": [
    {
     "data": {
      "image/png": "[encoded data removed]",
      "text/plain": [
       "<PIL.Image.Image image mode=L size=128x128 at 0x7F62507D9580>"
      ]
     },
     "execution_count": 248,
     "metadata": {},
     "output_type": "execute_result"
    }
   ],
   "source": [
    "t = to_tensor(img)\n",
    "Image.fromarray((t[0].numpy()*255).astype(np.uint8))"
   ]
  },
  {
   "cell_type": "code",
   "execution_count": null,
   "id": "45f7808f",
   "metadata": {},
   "outputs": [],
   "source": []
  }
 ],
 "metadata": {
  "kernelspec": {
   "display_name": "Python 3",
   "language": "python",
   "name": "python3"
  },
  "language_info": {
   "codemirror_mode": {
    "name": "ipython",
    "version": 3
   },
   "file_extension": ".py",
   "mimetype": "text/x-python",
   "name": "python",
   "nbconvert_exporter": "python",
   "pygments_lexer": "ipython3",
   "version": "3.8.8"
  }
 },
 "nbformat": 4,
 "nbformat_minor": 5
}
